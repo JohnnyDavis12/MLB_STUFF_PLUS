{
 "cells": [
  {
   "cell_type": "code",
   "execution_count": null,
   "metadata": {},
   "outputs": [],
   "source": [
    "#importing libraries\n",
    "import pandas as pd\n",
    "import pickle\n",
    "from pandas import DataFrame, Series\n",
    "from sklearn.ensemble import RandomForestClassifier,RandomForestRegressor\n",
    "import numpy as np\n",
    "import seaborn as sns\n",
    "import statsmodels.api as sm\n",
    "from sklearn import linear_model, naive_bayes\n",
    "from sklearn.datasets import make_regression\n",
    "from sklearn.model_selection import train_test_split, cross_val_score\n",
    "from sklearn.naive_bayes import GaussianNB\n",
    "from sklearn.naive_bayes import MultinomialNB\n",
    "from sklearn.metrics import confusion_matrix\n",
    "from sklearn.tree import DecisionTreeRegressor\n",
    "from sklearn import svm\n",
    "from statsmodels.stats.outliers_influence import variance_inflation_factor\n",
    "import matplotlib.pyplot as plt\n",
    "from sklearn.metrics import mean_squared_error,r2_score\n",
    "import pybaseball as pyb\n",
    "from pybaseball import statcast\n",
    "import xgboost as xgb\n",
    "from xgboost import XGBRegressor, XGBClassifier\n"
   ]
  },
  {
   "cell_type": "code",
   "execution_count": null,
   "metadata": {},
   "outputs": [],
   "source": [
    "df = pd.read_csv(\"/Users/johndavis/Desktop/MLB_RV_100.csv\",low_memory=False)"
   ]
  },
  {
   "cell_type": "code",
   "execution_count": null,
   "metadata": {},
   "outputs": [],
   "source": [
    "#Drop all rows with NaN values\n",
    "df = df.replace([np.inf, -np.inf], np.nan)\n",
    "df = df.dropna()\n",
    "df = df.reset_index()"
   ]
  },
  {
   "cell_type": "code",
   "execution_count": null,
   "metadata": {},
   "outputs": [],
   "source": [
    "df.head(1)"
   ]
  },
  {
   "cell_type": "code",
   "execution_count": null,
   "metadata": {},
   "outputs": [],
   "source": [
    "#create a new dataframe with only pitches that are fastballs, sinkers and cutters\n",
    "dfb = df[(df['Pitch Type'] == 'FF') | (df['Pitch Type'] == 'FT') | (df['Pitch Type'] == 'SI') | (df['Pitch Type'] == 'FC')]"
   ]
  },
  {
   "cell_type": "code",
   "execution_count": null,
   "metadata": {},
   "outputs": [],
   "source": [
    "#create a column for the absolute value of the horizontal break\n",
    "dfb.insert(6, \"ABS Horizontal Break\", abs(dfb[\"Horizontal Break\"]), True)"
   ]
  },
  {
   "cell_type": "code",
   "execution_count": null,
   "metadata": {},
   "outputs": [],
   "source": [
    "#create a column for the differential between the vertical and horizontal break\n",
    "dfb.insert(7, \"Vertical - Horizontal Break\", dfb[\"Vertical Break\"] - dfb[\"Horizontal Break\"], True)"
   ]
  },
  {
   "cell_type": "code",
   "execution_count": null,
   "metadata": {},
   "outputs": [],
   "source": [
    "#rename Vertical - Horizontal Break to differential break\n",
    "dfb.rename (columns = {'Vertical - Horizontal Break':'Differential Break'}, inplace = True)"
   ]
  },
  {
   "cell_type": "code",
   "execution_count": null,
   "metadata": {},
   "outputs": [],
   "source": [
    "dfb.head(1)"
   ]
  },
  {
   "cell_type": "code",
   "execution_count": null,
   "metadata": {},
   "outputs": [],
   "source": [
    "dfb = dfb[['Player Name','Velocity','Pitch Type','Spin Rate','Vertical Break','Horizontal Break','Differential Break','Release Height','Side Release','Extension','Run Values']]"
   ]
  },
  {
   "cell_type": "code",
   "execution_count": null,
   "metadata": {},
   "outputs": [],
   "source": [
    "dfb.head(1)\n"
   ]
  },
  {
   "cell_type": "code",
   "execution_count": null,
   "metadata": {},
   "outputs": [],
   "source": [
    "#Rename PLAYER NAME to PITCHER And Run Values to RV\n",
    "dfb.rename (columns = {'Player Name':'PITCHER','Run Values':'RV'}, inplace = True)"
   ]
  },
  {
   "cell_type": "code",
   "execution_count": null,
   "metadata": {},
   "outputs": [],
   "source": [
    "X = dfb[['Velocity','Spin Rate','Vertical Break', 'Horizontal Break','Differential Break','Release Height','Side Release','Extension']]\n",
    "y = dfb['RV'] "
   ]
  },
  {
   "cell_type": "code",
   "execution_count": null,
   "metadata": {},
   "outputs": [],
   "source": [
    "#Split data into training and testing sets\n",
    "train_test_split(X,y,test_size=0.2)\n",
    "X_train, X_test, y_train, y_test = train_test_split(X, y, test_size=0.2, random_state=0)"
   ]
  },
  {
   "cell_type": "code",
   "execution_count": null,
   "metadata": {},
   "outputs": [],
   "source": [
    "#Create a random forest regressor\n",
    "rfr = RandomForestRegressor(n_estimators=100, max_depth=10, random_state=0)\n",
    "rfr.fit(X_train, y_train)"
   ]
  },
  {
   "cell_type": "code",
   "execution_count": null,
   "metadata": {},
   "outputs": [],
   "source": [
    "#create a dataframe with the feature importances\n",
    "feature_importances = pd.DataFrame(rfr.feature_importances_, index = X_train.columns, columns=['importance']).sort_values('importance', ascending=False)\n",
    "feature_importances"
   ]
  },
  {
   "cell_type": "code",
   "execution_count": null,
   "metadata": {},
   "outputs": [],
   "source": [
    "#create a new column in dfb with the predicted run values\n",
    "dfb['Predicted RV'] = rfr.predict(X)\n"
   ]
  },
  {
   "cell_type": "code",
   "execution_count": null,
   "metadata": {},
   "outputs": [],
   "source": [
    "dfb.to_csv('/Users/johndavis/Desktop/MLB_FB_RV_100.csv', index=False)"
   ]
  },
  {
   "cell_type": "code",
   "execution_count": null,
   "metadata": {},
   "outputs": [],
   "source": [
    "#Create a new dataframe with averages of all the values \n",
    "dfb_avg = dfb.groupby(['PITCHER']).mean().reset_index()"
   ]
  },
  {
   "cell_type": "code",
   "execution_count": null,
   "metadata": {},
   "outputs": [],
   "source": [
    "#order the dataframe by the predicted run values lowest to highest \n",
    "dfb_avg = dfb_avg.sort_values(by=['Predicted RV'], ascending=True)"
   ]
  },
  {
   "cell_type": "code",
   "execution_count": null,
   "metadata": {},
   "outputs": [],
   "source": [
    "#check the dataframe\n",
    "dfb_avg.head(5)"
   ]
  },
  {
   "cell_type": "code",
   "execution_count": null,
   "metadata": {},
   "outputs": [],
   "source": [
    "#Edit The Pitcher Names so First name is first and last name is last\n",
    "dfb_avg['PITCHER'] = dfb_avg['PITCHER'].str.split(' ', expand=True)[1] + ' ' + dfb_avg['PITCHER'].str.split(' ', expand=True)[0]"
   ]
  },
  {
   "cell_type": "code",
   "execution_count": null,
   "metadata": {},
   "outputs": [],
   "source": [
    "#Remove the comma from the last name\n",
    "dfb_avg = dfb_avg.replace(',','', regex=True)"
   ]
  },
  {
   "cell_type": "code",
   "execution_count": null,
   "metadata": {},
   "outputs": [],
   "source": [
    "#create a new column with predicted run value times 100 called xRV/100\n",
    "dfb_avg['xRV/100'] = dfb_avg['Predicted RV'] * 100"
   ]
  },
  {
   "cell_type": "code",
   "execution_count": null,
   "metadata": {},
   "outputs": [],
   "source": [
    "#reset the index\n",
    "dfb_avg = dfb_avg.reset_index()"
   ]
  },
  {
   "cell_type": "code",
   "execution_count": null,
   "metadata": {},
   "outputs": [],
   "source": [
    "#drop the index column\n",
    "dfb_avg = dfb_avg.drop(['index'], axis=1)"
   ]
  },
  {
   "cell_type": "code",
   "execution_count": null,
   "metadata": {},
   "outputs": [],
   "source": [
    "dfb_avg = dfb_avg[['PITCHER','Velocity','Spin Rate','Vertical Break','Horizontal Break','xRV/100']]\n",
    "dfb_avg.head(5)"
   ]
  },
  {
   "cell_type": "code",
   "execution_count": null,
   "metadata": {},
   "outputs": [],
   "source": [
    "#Edit Horizontal Break to be absolute value of horizontal break\n",
    "dfb_avg['Horizontal Break'] = abs(dfb_avg['Horizontal Break'])"
   ]
  },
  {
   "cell_type": "code",
   "execution_count": null,
   "metadata": {},
   "outputs": [],
   "source": [
    "dfb_avg.head(5)"
   ]
  },
  {
   "cell_type": "code",
   "execution_count": null,
   "metadata": {},
   "outputs": [],
   "source": [
    "#add in a new column called pitch count that is the number of pitches thrown by each pitcher\n",
    "dfb_avg = dfb_avg.assign(Pitch_Count=dfb.groupby('PITCHER').size().values)"
   ]
  },
  {
   "cell_type": "code",
   "execution_count": null,
   "metadata": {},
   "outputs": [],
   "source": [
    "#reorder the columns so pitch count is second\n",
    "dfb_avg = dfb_avg[['PITCHER','Pitch_Count','Velocity','Spin Rate','Vertical Break','Horizontal Break','xRV/100']]"
   ]
  },
  {
   "cell_type": "code",
   "execution_count": null,
   "metadata": {},
   "outputs": [],
   "source": [
    "#change PITCHER to pitcher \n",
    "dfb_avg = dfb_avg.rename(columns={'PITCHER': 'Pitcher'})"
   ]
  },
  {
   "cell_type": "code",
   "execution_count": null,
   "metadata": {},
   "outputs": [],
   "source": [
    "#change pitcher to Pitcher \n",
    "dfb_avg = dfb_avg.rename(columns={'pitcher': 'Pitcher'})"
   ]
  },
  {
   "cell_type": "code",
   "execution_count": null,
   "metadata": {},
   "outputs": [],
   "source": [
    "#find the mean of xRV/100\n",
    "dfb_avg['xRV/100'].mean()"
   ]
  },
  {
   "cell_type": "code",
   "execution_count": null,
   "metadata": {},
   "outputs": [],
   "source": [
    "dfb_avg.head(5)\n"
   ]
  },
  {
   "cell_type": "code",
   "execution_count": null,
   "metadata": {},
   "outputs": [],
   "source": [
    "#import dataframe from baseball refernce with Basic Pitcher Stats\n",
    "df_baseball_ref = pd.read_csv(\"/Users/johndavis/Desktop/Basic_Stats.csv\",low_memory=False, encoding='latin-1')\n"
   ]
  },
  {
   "cell_type": "code",
   "execution_count": null,
   "metadata": {},
   "outputs": [],
   "source": [
    "#Remove Ê FROM PITCHER NAMES AND REPLACE WITH A SPACE\n",
    "df_baseball_ref['Name'] = df_baseball_ref['Name'].str.replace('Ê', ' ')"
   ]
  },
  {
   "cell_type": "code",
   "execution_count": null,
   "metadata": {},
   "outputs": [],
   "source": [
    "#take the average stats for each pitcher \n",
    "df_baseball_ref_avg = df_baseball_ref.groupby(['Name']).mean().reset_index()"
   ]
  },
  {
   "cell_type": "code",
   "execution_count": null,
   "metadata": {},
   "outputs": [],
   "source": [
    "#remove asterisks from pitcher names\n",
    "df_baseball_ref_avg = df_baseball_ref_avg.replace('\\*','', regex=True)"
   ]
  },
  {
   "cell_type": "code",
   "execution_count": null,
   "metadata": {},
   "outputs": [],
   "source": [
    "#change Name column to Pitcher\n",
    "df_baseball_ref_avg = df_baseball_ref_avg.rename(columns={'Name': 'Pitcher'})"
   ]
  },
  {
   "cell_type": "code",
   "execution_count": null,
   "metadata": {},
   "outputs": [],
   "source": [
    "df_baseball_ref_avg.head(5)"
   ]
  },
  {
   "cell_type": "code",
   "execution_count": null,
   "metadata": {},
   "outputs": [],
   "source": [
    "#add ERA from df_baseball_ref_avg to dfb_avg that corresponds to the pitcher\n",
    "dfb_avg = dfb_avg.merge(df_baseball_ref_avg[['Pitcher','ERA']], on='Pitcher', how='left')\n",
    "dfb_avg.head(10)"
   ]
  },
  {
   "cell_type": "code",
   "execution_count": null,
   "metadata": {},
   "outputs": [],
   "source": [
    "#Reorder columns so Pitcher, Pitch_Count, Velocity, Spin Rate, Vertical Break, Horizontal Break, xRV/100, ERA\n",
    "dfb_avg = dfb_avg[['Pitcher','Pitch_Count','Velocity','Spin Rate','Vertical Break','Horizontal Break','xRV/100','ERA']]\n"
   ]
  },
  {
   "cell_type": "code",
   "execution_count": null,
   "metadata": {},
   "outputs": [],
   "source": [
    "# get rid of pitchers with less than 100 pitches thrown\n",
    "dfb_avg = dfb_avg[dfb_avg['Pitch_Count'] > 100]"
   ]
  },
  {
   "cell_type": "code",
   "execution_count": null,
   "metadata": {},
   "outputs": [],
   "source": [
    "#get rid of all Nan values\n",
    "dfb_avg = dfb_avg.dropna()\n",
    "dfb_avg = dfb_avg.reset_index()"
   ]
  },
  {
   "cell_type": "code",
   "execution_count": null,
   "metadata": {},
   "outputs": [],
   "source": [
    "#add in FIP column from df_baseball_ref_avg that corresponds to the pitcher\n",
    "dfb_avg = dfb_avg.merge(df_baseball_ref_avg[['Pitcher','FIP']], on='Pitcher', how='left')\n"
   ]
  },
  {
   "cell_type": "code",
   "execution_count": null,
   "metadata": {},
   "outputs": [],
   "source": [
    "dfb_avg = dfb_avg[['Pitcher','Pitch_Count','Velocity','Spin Rate','Vertical Break','Horizontal Break','xRV/100','ERA','FIP']]"
   ]
  },
  {
   "cell_type": "code",
   "execution_count": null,
   "metadata": {},
   "outputs": [],
   "source": [
    "dfb_avg.corr()"
   ]
  },
  {
   "cell_type": "code",
   "execution_count": null,
   "metadata": {},
   "outputs": [],
   "source": [
    "#create a heatmap of avaerage velocity and xRV/100\n",
    "g = sns.jointplot(x=\"Velocity\", y=\"xRV/100\", data=dfb_avg, kind=\"reg\", truncate=False, color=\"m\", height=7)\n",
    "g.fig.suptitle(\"Average FB Velocity vs. xRV/100\")\n",
    "g.fig.subplots_adjust(top=.9)\n",
    "\n",
    "\n"
   ]
  },
  {
   "cell_type": "code",
   "execution_count": null,
   "metadata": {},
   "outputs": [],
   "source": [
    "#create a visualation of Top 10 Pitchers with the highest xRV/100\n",
    "p = sns.barplot(x=\"xRV/100\", y=\"Pitcher\", data=dfb_avg.head(10), palette= 'deep')\n",
    "#p.set(xlabel='xRV/100', ylabel='Pitcher')\n",
    "p.set_title('Top 10 Pitchers with Top FB xRV/100')"
   ]
  },
  {
   "cell_type": "code",
   "execution_count": null,
   "metadata": {},
   "outputs": [],
   "source": [
    "dfb_avg.head()"
   ]
  },
  {
   "cell_type": "code",
   "execution_count": null,
   "metadata": {},
   "outputs": [],
   "source": [
    "dfb_avg['xRV/100'].describe()"
   ]
  },
  {
   "cell_type": "code",
   "execution_count": null,
   "metadata": {},
   "outputs": [],
   "source": [
    "#Create a new column called xRV/100 scaled negative which is the xRV/100 - 3.503456\n",
    "dfb_avg = dfb_avg.assign(xRV100_scaled_negative=dfb_avg['xRV/100'] - 3.50345)"
   ]
  },
  {
   "cell_type": "code",
   "execution_count": null,
   "metadata": {},
   "outputs": [],
   "source": [
    "dfb_avg['xRV100_scaled_negative'].describe()"
   ]
  },
  {
   "cell_type": "code",
   "execution_count": null,
   "metadata": {},
   "outputs": [],
   "source": [
    "#Create a new column which is the aboslute value of xRV/100 scaled negative\n",
    "dfb_avg = dfb_avg.assign(xRV100_scaled_negative_abs=dfb_avg['xRV100_scaled_negative'].abs())"
   ]
  },
  {
   "cell_type": "code",
   "execution_count": null,
   "metadata": {},
   "outputs": [],
   "source": [
    "#create a new column called Stuff+ which is ((xRV100_scaled_negative_abs)/mean of xRV100_scaled_negative_abs) * 100\n",
    "dfb_avg = dfb_avg.assign(Stuff_plus=(dfb_avg['xRV100_scaled_negative_abs']/dfb_avg['xRV100_scaled_negative_abs'].mean())*100)\n",
    "dfb_avg.head(5)"
   ]
  },
  {
   "cell_type": "code",
   "execution_count": null,
   "metadata": {},
   "outputs": [],
   "source": [
    "dfb_avg = dfb_avg[['Pitcher','Pitch_Count','Velocity','Spin Rate','Vertical Break','Horizontal Break','xRV/100','Stuff_plus','ERA','FIP']]"
   ]
  },
  {
   "cell_type": "code",
   "execution_count": null,
   "metadata": {},
   "outputs": [],
   "source": [
    "#make all the numbers in dataframe rounded to 2 decimal places\n",
    "dfb_avg = dfb_avg.round(2)"
   ]
  },
  {
   "cell_type": "code",
   "execution_count": null,
   "metadata": {},
   "outputs": [],
   "source": [
    "dfb_avg.head(5)"
   ]
  },
  {
   "cell_type": "code",
   "execution_count": null,
   "metadata": {},
   "outputs": [],
   "source": [
    "dfb_avg.to_csv('dfb_avg.csv')\n"
   ]
  },
  {
   "cell_type": "code",
   "execution_count": null,
   "metadata": {},
   "outputs": [],
   "source": []
  }
 ],
 "metadata": {
  "kernelspec": {
   "display_name": "Python 3.9.13 ('base')",
   "language": "python",
   "name": "python3"
  },
  "language_info": {
   "codemirror_mode": {
    "name": "ipython",
    "version": 3
   },
   "file_extension": ".py",
   "mimetype": "text/x-python",
   "name": "python",
   "nbconvert_exporter": "python",
   "pygments_lexer": "ipython3",
   "version": "3.9.13"
  },
  "orig_nbformat": 4,
  "vscode": {
   "interpreter": {
    "hash": "ece8b02e9fc008d2bf4aaa30f9b06cdaffafe92b71d54bfc844a320ee0701ab8"
   }
  }
 },
 "nbformat": 4,
 "nbformat_minor": 2
}
